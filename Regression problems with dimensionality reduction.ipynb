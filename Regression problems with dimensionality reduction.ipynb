{
 "cells": [
  {
   "cell_type": "code",
   "execution_count": 1,
   "metadata": {},
   "outputs": [],
   "source": [
    "import numpy as np\n",
    "import pandas as pd\n",
    "import seaborn as sns\n",
    "import matplotlib.pyplot as plt\n",
    "from sklearn.linear_model import LinearRegression\n",
    "from sklearn.ensemble import RandomForestRegressor\n",
    "from sklearn.svm import SVR\n",
    "from sklearn.ensemble import GradientBoostingRegressor\n",
    "from sklearn.metrics import mean_squared_error,r2_score\n",
    "from sklearn.model_selection import train_test_split\n",
    "from sklearn.decomposition import PCA\n",
    "from sklearn.experimental import enable_iterative_imputer\n",
    "from sklearn.impute import IterativeImputer"
   ]
  },
  {
   "cell_type": "code",
   "execution_count": 2,
   "metadata": {},
   "outputs": [
    {
     "data": {
      "text/html": [
       "<div>\n",
       "<style scoped>\n",
       "    .dataframe tbody tr th:only-of-type {\n",
       "        vertical-align: middle;\n",
       "    }\n",
       "\n",
       "    .dataframe tbody tr th {\n",
       "        vertical-align: top;\n",
       "    }\n",
       "\n",
       "    .dataframe thead th {\n",
       "        text-align: right;\n",
       "    }\n",
       "</style>\n",
       "<table border=\"1\" class=\"dataframe\">\n",
       "  <thead>\n",
       "    <tr style=\"text-align: right;\">\n",
       "      <th></th>\n",
       "      <th>ID</th>\n",
       "      <th>y</th>\n",
       "      <th>X0</th>\n",
       "      <th>X1</th>\n",
       "      <th>X2</th>\n",
       "      <th>X3</th>\n",
       "      <th>X4</th>\n",
       "      <th>X5</th>\n",
       "      <th>X6</th>\n",
       "      <th>X8</th>\n",
       "      <th>...</th>\n",
       "      <th>X375</th>\n",
       "      <th>X376</th>\n",
       "      <th>X377</th>\n",
       "      <th>X378</th>\n",
       "      <th>X379</th>\n",
       "      <th>X380</th>\n",
       "      <th>X382</th>\n",
       "      <th>X383</th>\n",
       "      <th>X384</th>\n",
       "      <th>X385</th>\n",
       "    </tr>\n",
       "  </thead>\n",
       "  <tbody>\n",
       "    <tr>\n",
       "      <th>0</th>\n",
       "      <td>0</td>\n",
       "      <td>130.81</td>\n",
       "      <td>k</td>\n",
       "      <td>v</td>\n",
       "      <td>at</td>\n",
       "      <td>a</td>\n",
       "      <td>d</td>\n",
       "      <td>u</td>\n",
       "      <td>j</td>\n",
       "      <td>o</td>\n",
       "      <td>...</td>\n",
       "      <td>0</td>\n",
       "      <td>0</td>\n",
       "      <td>1</td>\n",
       "      <td>0</td>\n",
       "      <td>0</td>\n",
       "      <td>0</td>\n",
       "      <td>0</td>\n",
       "      <td>0</td>\n",
       "      <td>0</td>\n",
       "      <td>0</td>\n",
       "    </tr>\n",
       "    <tr>\n",
       "      <th>1</th>\n",
       "      <td>6</td>\n",
       "      <td>88.53</td>\n",
       "      <td>k</td>\n",
       "      <td>t</td>\n",
       "      <td>av</td>\n",
       "      <td>e</td>\n",
       "      <td>d</td>\n",
       "      <td>y</td>\n",
       "      <td>l</td>\n",
       "      <td>o</td>\n",
       "      <td>...</td>\n",
       "      <td>1</td>\n",
       "      <td>0</td>\n",
       "      <td>0</td>\n",
       "      <td>0</td>\n",
       "      <td>0</td>\n",
       "      <td>0</td>\n",
       "      <td>0</td>\n",
       "      <td>0</td>\n",
       "      <td>0</td>\n",
       "      <td>0</td>\n",
       "    </tr>\n",
       "    <tr>\n",
       "      <th>2</th>\n",
       "      <td>7</td>\n",
       "      <td>76.26</td>\n",
       "      <td>az</td>\n",
       "      <td>w</td>\n",
       "      <td>n</td>\n",
       "      <td>c</td>\n",
       "      <td>d</td>\n",
       "      <td>x</td>\n",
       "      <td>j</td>\n",
       "      <td>x</td>\n",
       "      <td>...</td>\n",
       "      <td>0</td>\n",
       "      <td>0</td>\n",
       "      <td>0</td>\n",
       "      <td>0</td>\n",
       "      <td>0</td>\n",
       "      <td>0</td>\n",
       "      <td>1</td>\n",
       "      <td>0</td>\n",
       "      <td>0</td>\n",
       "      <td>0</td>\n",
       "    </tr>\n",
       "    <tr>\n",
       "      <th>3</th>\n",
       "      <td>9</td>\n",
       "      <td>80.62</td>\n",
       "      <td>az</td>\n",
       "      <td>t</td>\n",
       "      <td>n</td>\n",
       "      <td>f</td>\n",
       "      <td>d</td>\n",
       "      <td>x</td>\n",
       "      <td>l</td>\n",
       "      <td>e</td>\n",
       "      <td>...</td>\n",
       "      <td>0</td>\n",
       "      <td>0</td>\n",
       "      <td>0</td>\n",
       "      <td>0</td>\n",
       "      <td>0</td>\n",
       "      <td>0</td>\n",
       "      <td>0</td>\n",
       "      <td>0</td>\n",
       "      <td>0</td>\n",
       "      <td>0</td>\n",
       "    </tr>\n",
       "    <tr>\n",
       "      <th>4</th>\n",
       "      <td>13</td>\n",
       "      <td>78.02</td>\n",
       "      <td>az</td>\n",
       "      <td>v</td>\n",
       "      <td>n</td>\n",
       "      <td>f</td>\n",
       "      <td>d</td>\n",
       "      <td>h</td>\n",
       "      <td>d</td>\n",
       "      <td>n</td>\n",
       "      <td>...</td>\n",
       "      <td>0</td>\n",
       "      <td>0</td>\n",
       "      <td>0</td>\n",
       "      <td>0</td>\n",
       "      <td>0</td>\n",
       "      <td>0</td>\n",
       "      <td>0</td>\n",
       "      <td>0</td>\n",
       "      <td>0</td>\n",
       "      <td>0</td>\n",
       "    </tr>\n",
       "  </tbody>\n",
       "</table>\n",
       "<p>5 rows × 378 columns</p>\n",
       "</div>"
      ],
      "text/plain": [
       "   ID       y  X0 X1  X2 X3 X4 X5 X6 X8  ...  X375  X376  X377  X378  X379  \\\n",
       "0   0  130.81   k  v  at  a  d  u  j  o  ...     0     0     1     0     0   \n",
       "1   6   88.53   k  t  av  e  d  y  l  o  ...     1     0     0     0     0   \n",
       "2   7   76.26  az  w   n  c  d  x  j  x  ...     0     0     0     0     0   \n",
       "3   9   80.62  az  t   n  f  d  x  l  e  ...     0     0     0     0     0   \n",
       "4  13   78.02  az  v   n  f  d  h  d  n  ...     0     0     0     0     0   \n",
       "\n",
       "   X380  X382  X383  X384  X385  \n",
       "0     0     0     0     0     0  \n",
       "1     0     0     0     0     0  \n",
       "2     0     1     0     0     0  \n",
       "3     0     0     0     0     0  \n",
       "4     0     0     0     0     0  \n",
       "\n",
       "[5 rows x 378 columns]"
      ]
     },
     "execution_count": 2,
     "metadata": {},
     "output_type": "execute_result"
    }
   ],
   "source": [
    "train=pd.read_csv('Mercedes_train.csv')\n",
    "test=pd.read_csv('Mercedes_test.csv')\n",
    "df=pd.concat([train,test])\n",
    "df.head()"
   ]
  },
  {
   "cell_type": "code",
   "execution_count": 4,
   "metadata": {},
   "outputs": [
    {
     "data": {
      "text/plain": [
       "8"
      ]
     },
     "execution_count": 4,
     "metadata": {},
     "output_type": "execute_result"
    }
   ],
   "source": [
    "# Look for categorical variables\n",
    "cat=[feature for feature in df.columns if df[feature].dtype=='O']\n",
    "len(cat)"
   ]
  },
  {
   "cell_type": "code",
   "execution_count": 5,
   "metadata": {},
   "outputs": [],
   "source": [
    "# Lets first drop Id column\n",
    "df.drop('ID',axis=1,inplace=True)"
   ]
  },
  {
   "cell_type": "code",
   "execution_count": 6,
   "metadata": {},
   "outputs": [
    {
     "name": "stdout",
     "output_type": "stream",
     "text": [
      "X0 : 53 Labels\n",
      "X1 : 27 Labels\n",
      "X2 : 50 Labels\n",
      "X3 : 7 Labels\n",
      "X4 : 4 Labels\n",
      "X5 : 33 Labels\n",
      "X6 : 12 Labels\n",
      "X8 : 25 Labels\n"
     ]
    }
   ],
   "source": [
    "# Check the no.of unique values of categorical features\n",
    "for col in cat:\n",
    "    print(col,':',df[col].nunique(),'Labels')"
   ]
  },
  {
   "cell_type": "code",
   "execution_count": 7,
   "metadata": {},
   "outputs": [
    {
     "name": "stderr",
     "output_type": "stream",
     "text": [
      "C:\\Users\\Tejus Modhe\\anaconda3\\lib\\site-packages\\seaborn\\distributions.py:2551: FutureWarning: `distplot` is a deprecated function and will be removed in a future version. Please adapt your code to use either `displot` (a figure-level function with similar flexibility) or `histplot` (an axes-level function for histograms).\n",
      "  warnings.warn(msg, FutureWarning)\n"
     ]
    },
    {
     "data": {
      "text/plain": [
       "Text(0.5, 1.0, 'Distribution of Output variable')"
      ]
     },
     "execution_count": 7,
     "metadata": {},
     "output_type": "execute_result"
    },
    {
     "data": {
      "image/png": "[encoded data removed]",
      "text/plain": [
       "<Figure size 432x288 with 1 Axes>"
      ]
     },
     "metadata": {
      "needs_background": "light"
     },
     "output_type": "display_data"
    }
   ],
   "source": [
    "## Lets see the distribution of y variable\n",
    "sns.distplot(df['y'].values,bins=50)\n",
    "plt.xlabel('y values')\n",
    "plt.title('Distribution of Output variable')"
   ]
  },
  {
   "cell_type": "code",
   "execution_count": 9,
   "metadata": {},
   "outputs": [
    {
     "data": {
      "text/plain": [
       "y    4209\n",
       "dtype: int64"
      ]
     },
     "execution_count": 9,
     "metadata": {},
     "output_type": "execute_result"
    }
   ],
   "source": [
    "# Check for missing values\n",
    "missing_vals=df.isnull().sum()\n",
    "missing_vals[missing_vals>1]"
   ]
  },
  {
   "cell_type": "code",
   "execution_count": 10,
   "metadata": {},
   "outputs": [
    {
     "data": {
      "text/plain": [
       "4209"
      ]
     },
     "execution_count": 10,
     "metadata": {},
     "output_type": "execute_result"
    }
   ],
   "source": [
    "## Apparently the test set file doesnt contain the y column therefore we shall proceed with train set\n",
    "df['y'].isnull().sum()"
   ]
  },
  {
   "cell_type": "markdown",
   "metadata": {},
   "source": [
    "### Transforming categorical features with one-hot encoding"
   ]
  },
  {
   "cell_type": "code",
   "execution_count": 11,
   "metadata": {},
   "outputs": [],
   "source": [
    "X=pd.get_dummies(train,columns=cat)"
   ]
  },
  {
   "cell_type": "markdown",
   "metadata": {},
   "source": [
    "### Checking unique values per column"
   ]
  },
  {
   "cell_type": "code",
   "execution_count": 13,
   "metadata": {},
   "outputs": [
    {
     "name": "stdout",
     "output_type": "stream",
     "text": [
      "Columns containing the unique values :  [0, 6, 7, 9, 13, 18, 24, 25, 27, 30, 31, 32, 34, 36, 37, 38, 39, 40, 44, 47, 48, 49, 50, 52, 54, 60, 61, 62, 66, 67, 68, 70, 74, 75, 79, 80, 81, 86, 90, 92, 100, 102, 106, 107, 108, 109, 112, 116, 118, 119, 124, 125, 127, 128, 129, 130, 131, 133, 134, 136, 139, 141, 143, 145, 146, 147, 150, 151, 152, 153, 154, 158, 159, 160, 161, 164, 165, 166, 168, 169, 170, 171, 173, 174, 175, 176, 177, 178, 184, 186, 190, 197, 200, 202, 203, 207, 208, 209, 212, 213, 214, 215, 217, 218, 222, 223, 224, 225, 229, 232, 233, 234, 237, 239, 240, 241, 246, 252, 255, 260, 261, 263, 264, 265, 268, 269, 270, 271, 274, 277, 278, 281, 282, 284, 286, 287, 294, 295, 300, 301, 302, 303, 308, 309, 310, 312, 315, 317, 318, 319, 320, 321, 322, 323, 325, 326, 328, 331, 332, 333, 334, 335, 336, 341, 342, 344, 348, 351, 355, 356, 359, 360, 361, 363, 369, 371, 372, 374, 375, 376, 379, 380, 381, 383, 385, 386, 387, 388, 389, 391, 394, 397, 398, 400, 401, 402, 403, 404, 405, 407, 411, 414, 415, 416, 417, 418, 422, 423, 424, 425, 426, 427, 428, 429, 431, 432, 433, 435, 441, 442, 444, 445, 447, 449, 450, 451, 454, 455, 456, 461, 463, 466, 468, 469, 470, 474, 476, 477, 478, 479, 481, 482, 483, 484, 485, 486, 487, 489, 494, 495, 496, 503, 504, 505, 507, 508, 509, 513, 514, 515, 517, 520, 523, 524, 525, 527, 528, 530, 531, 534, 535, 538, 542, 544, 545, 549, 550, 553, 554, 555, 561, 563, 564, 565, 567, 568, 569, 574, 578, 582, 583, 584, 585, 586, 587, 588, 590, 592, 596, 597, 599, 600, 601, 603, 605, 607, 611, 612, 613, 614, 615, 619, 621, 625, 627, 631, 632, 633, 634, 635, 636, 639, 640, 641, 642, 644, 647, 649, 650, 651, 655, 658, 661, 662, 665, 667, 670, 672, 673, 674, 676, 680, 681, 683, 684, 686, 689, 690, 691, 692, 694, 695, 697, 699, 700, 702, 703, 706, 707, 708, 713, 718, 719, 722, 723, 727, 729, 730, 732, 733, 735, 736, 737, 739, 740, 741, 742, 743, 744, 747, 748, 749, 750, 752, 753, 755, 757, 760, 762, 763, 764, 765, 775, 778, 779, 781, 783, 784, 785, 786, 789, 790, 791, 794, 795, 796, 797, 799, 801, 802, 803, 804, 805, 807, 808, 810, 813, 815, 819, 821, 822, 824, 825, 826, 827, 828, 832, 833, 835, 836, 837, 838, 840, 842, 843, 846, 847, 849, 853, 857, 858, 860, 862, 863, 868, 870, 873, 874, 875, 876, 877, 878, 879, 880, 881, 884, 886, 887, 889, 890, 891, 892, 894, 895, 896, 897, 898, 899, 900, 902, 906, 907, 908, 909, 912, 913, 915, 916, 917, 919, 920, 922, 923, 924, 925, 926, 927, 930, 931, 936, 938, 945, 946, 948, 950, 955, 956, 958, 961, 962, 964, 966, 968, 969, 970, 976, 977, 979, 982, 983, 985, 987, 991, 993, 994, 995, 997, 998, 1005, 1006, 1007, 1011, 1017, 1018, 1023, 1026, 1031, 1032, 1034, 1035, 1039, 1040, 1041, 1046, 1048, 1049, 1052, 1053, 1055, 1058, 1060, 1061, 1065, 1067, 1068, 1069, 1071, 1072, 1073, 1074, 1075, 1079, 1081, 1084, 1085, 1086, 1087, 1088, 1090, 1092, 1094, 1095, 1096, 1098, 1100, 1102, 1105, 1107, 1108, 1113, 1115, 1118, 1119, 1121, 1122, 1123, 1127, 1128, 1129, 1130, 1131, 1132, 1133, 1135, 1136, 1139, 1140, 1141, 1142, 1143, 1147, 1149, 1151, 1156, 1158, 1159, 1160, 1161, 1163, 1164, 1170, 1175, 1179, 1180, 1181, 1183, 1184, 1185, 1190, 1193, 1194, 1195, 1196, 1199, 1202, 1204, 1205, 1206, 1207, 1208, 1210, 1211, 1212, 1213, 1215, 1216, 1217, 1219, 1220, 1221, 1223, 1224, 1225, 1227, 1229, 1231, 1234, 1235, 1237, 1239, 1240, 1242, 1243, 1245, 1248, 1249, 1252, 1253, 1261, 1262, 1264, 1265, 1266, 1269, 1270, 1273, 1278, 1280, 1284, 1287, 1288, 1290, 1291, 1292, 1293, 1294, 1295, 1297, 1298, 1300, 1302, 1303, 1304, 1305, 1309, 1310, 1311, 1312, 1318, 1320, 1321, 1322, 1326, 1327, 1333, 1334, 1335, 1336, 1341, 1342, 1344, 1345, 1346, 1350, 1351, 1353, 1355, 1356, 1357, 1358, 1361, 1362, 1367, 1368, 1369, 1370, 1371, 1373, 1374, 1377, 1382, 1383, 1385, 1386, 1389, 1390, 1391, 1393, 1397, 1402, 1405, 1409, 1411, 1414, 1416, 1417, 1418, 1419, 1421, 1428, 1433, 1435, 1436, 1439, 1443, 1447, 1449, 1450, 1451, 1452, 1457, 1460, 1462, 1463, 1464, 1467, 1468, 1470, 1471, 1473, 1475, 1476, 1478, 1480, 1481, 1484, 1485, 1486, 1489, 1491, 1493, 1495, 1498, 1500, 1501, 1503, 1504, 1505, 1506, 1510, 1515, 1516, 1517, 1520, 1521, 1523, 1525, 1526, 1528, 1530, 1531, 1533, 1534, 1535, 1538, 1540, 1541, 1546, 1547, 1548, 1549, 1552, 1553, 1555, 1557, 1558, 1561, 1563, 1564, 1565, 1568, 1572, 1573, 1575, 1576, 1577, 1579, 1581, 1582, 1589, 1591, 1593, 1594, 1595, 1597, 1600, 1601, 1602, 1603, 1605, 1610, 1612, 1614, 1615, 1617, 1618, 1623, 1624, 1626, 1628, 1630, 1631, 1632, 1633, 1635, 1637, 1640, 1642, 1649, 1650, 1651, 1654, 1655, 1657, 1660, 1662, 1671, 1673, 1675, 1676, 1681, 1682, 1684, 1685, 1688, 1694, 1698, 1699, 1705, 1709, 1712, 1714, 1715, 1716, 1718, 1721, 1723, 1724, 1728, 1732, 1736, 1737, 1739, 1740, 1741, 1743, 1744, 1746, 1748, 1750, 1757, 1765, 1767, 1770, 1776, 1778, 1781, 1782, 1783, 1784, 1785, 1786, 1789, 1791, 1792, 1793, 1794, 1795, 1797, 1798, 1799, 1800, 1802, 1804, 1805, 1806, 1808, 1810, 1811, 1817, 1819, 1823, 1824, 1827, 1829, 1830, 1832, 1833, 1834, 1835, 1838, 1839, 1840, 1842, 1843, 1845, 1846, 1847, 1849, 1850, 1855, 1857, 1858, 1862, 1864, 1869, 1870, 1871, 1873, 1874, 1875, 1876, 1877, 1878, 1881, 1883, 1884, 1886, 1889, 1891, 1892, 1893, 1898, 1899, 1903, 1904, 1907, 1908, 1909, 1910, 1911, 1913, 1914, 1919, 1921, 1922, 1926, 1927, 1928, 1929, 1931, 1936, 1937, 1938, 1939, 1946, 1947, 1950, 1951, 1953, 1956, 1957, 1961, 1962, 1964, 1966, 1967, 1970, 1974, 1976, 1980, 1983, 1984, 1985, 1986, 1989, 1990, 1991, 1992, 1994, 1995, 1996, 1998, 2000, 2005, 2008, 2011, 2012, 2014, 2015, 2016, 2017, 2019, 2020, 2021, 2023, 2027, 2028, 2029, 2034, 2038, 2039, 2041, 2042, 2045, 2047, 2048, 2049, 2050, 2051, 2052, 2053, 2057, 2058, 2061, 2064, 2065, 2068, 2069, 2070, 2071, 2077, 2078, 2079, 2081, 2083, 2084, 2086, 2088, 2089, 2090, 2094, 2095, 2096, 2097, 2099, 2100, 2104, 2108, 2109, 2111, 2112, 2113, 2116, 2121, 2124, 2125, 2130, 2131, 2133, 2134, 2136, 2137, 2140, 2143, 2144, 2145, 2147, 2148, 2149, 2150, 2152, 2153, 2154, 2155, 2156, 2158, 2160, 2161, 2163, 2165, 2166, 2169, 2170, 2172, 2176, 2177, 2179, 2181, 2182, 2183, 2184, 2186, 2187, 2188, 2191, 2193, 2195, 2196, 2197, 2198, 2199, 2202, 2206, 2207, 2208, 2210, 2211, 2212, 2217, 2221, 2224, 2227, 2228, 2229, 2231, 2232, 2238, 2239, 2242, 2243, 2244, 2245, 2246, 2247, 2251, 2255, 2257, 2260, 2261, 2263, 2264, 2267, 2268, 2270, 2272, 2276, 2278, 2281, 2284, 2285, 2286, 2287, 2290, 2293, 2294, 2295, 2296, 2302, 2303, 2307, 2310, 2313, 2314, 2315, 2317, 2318, 2319, 2320, 2323, 2324, 2327, 2328, 2336, 2339, 2341, 2343, 2344, 2346, 2347, 2348, 2350, 2353, 2356, 2359, 2362, 2363, 2365, 2367, 2368, 2372, 2375, 2377, 2379, 2380, 2381, 2384, 2385, 2388, 2391, 2393, 2394, 2395, 2396, 2397, 2403, 2405, 2406, 2410, 2411, 2414, 2416, 2417, 2418, 2419, 2421, 2424, 2425, 2427, 2428, 2429, 2430, 2431, 2433, 2437, 2439, 2441, 2442, 2445, 2446, 2448, 2449, 2451, 2452, 2453, 2456, 2457, 2458, 2461, 2462, 2464, 2466, 2467, 2470, 2471, 2472, 2473, 2475, 2476, 2477, 2479, 2482, 2483, 2484, 2485, 2486, 2487, 2488, 2491, 2493, 2494, 2495, 2498, 2499, 2501, 2502, 2503, 2504, 2506, 2511, 2512, 2514, 2516, 2517, 2522, 2524, 2526, 2527, 2528, 2531, 2532, 2534, 2536, 2537, 2539, 2540, 2541, 2542, 2543, 2545, 2546, 2547, 2548, 2549, 2550, 2551, 2552, 2554, 2555, 2557, 2566, 2568, 2569, 2570, 2571, 2573, 2574, 2581, 2584, 2585, 2586, 2588, 2592, 2593, 2595, 2596, 2601, 2605, 2609, 2610, 2611, 2612, 2616, 2618, 2619, 2621, 2622, 2625, 2626, 2628, 2631, 2633, 2634, 2635, 2637, 2638, 2641, 2643, 2645, 2648, 2651, 2654, 2656, 2658, 2660, 2661, 2666, 2667, 2668, 2669, 2673, 2674, 2676, 2678, 2680, 2681, 2682, 2686, 2687, 2691, 2692, 2695, 2696, 2698, 2700, 2701, 2702, 2704, 2706, 2707, 2708, 2716, 2719, 2722, 2723, 2724, 2725, 2727, 2729, 2730, 2733, 2735, 2740, 2741, 2742, 2743, 2744, 2745, 2747, 2748, 2750, 2754, 2755, 2756, 2761, 2763, 2766, 2767, 2768, 2770, 2772, 2773, 2775, 2780, 2781, 2783, 2785, 2786, 2788, 2790, 2791, 2793, 2794, 2795, 2796, 2797, 2803, 2805, 2806, 2810, 2813, 2815, 2819, 2825, 2827, 2828, 2830, 2831, 2832, 2833, 2836, 2837, 2843, 2844, 2845, 2847, 2852, 2855, 2856, 2857, 2859, 2860, 2862, 2863, 2869, 2871, 2872, 2873, 2874, 2875, 2876, 2879, 2881, 2886, 2894, 2895, 2896, 2897, 2902, 2903, 2904, 2905, 2906, 2907, 2908, 2912, 2915, 2916, 2917, 2924, 2928, 2930, 2931, 2932, 2935, 2937, 2938, 2939, 2940, 2944, 2946, 2947, 2948, 2949, 2952, 2957, 2958, 2959, 2961, 2965, 2970, 2973, 2976, 2978, 2979, 2982, 2988, 2993, 2994, 2997, 2998, 2999, 3000, 3001, 3003, 3007, 3008, 3009, 3012, 3013, 3019, 3020, 3022, 3023, 3025, 3026, 3027, 3029, 3031, 3033, 3034, 3035, 3036, 3037, 3038, 3042, 3045, 3047, 3048, 3049, 3050, 3051, 3052, 3053, 3054, 3057, 3060, 3062, 3064, 3065, 3070, 3071, 3075, 3076, 3078, 3079, 3080, 3081, 3083, 3086, 3087, 3089, 3090, 3095, 3099, 3100, 3101, 3103, 3104, 3105, 3107, 3108, 3110, 3114, 3118, 3119, 3120, 3128, 3131, 3133, 3136, 3139, 3141, 3142, 3143, 3153, 3154, 3157, 3158, 3160, 3164, 3166, 3167, 3168, 3169, 3170, 3171, 3174, 3175, 3178, 3180, 3181, 3182, 3184, 3185, 3188, 3191, 3195, 3196, 3199, 3203, 3207, 3209, 3215, 3217, 3218, 3222, 3223, 3224, 3225, 3230, 3231, 3235, 3237, 3241, 3242, 3243, 3244, 3245, 3246, 3248, 3250, 3251, 3258, 3259, 3260, 3261, 3265, 3268, 3270, 3271, 3273, 3276, 3278, 3281, 3282, 3284, 3286, 3289, 3292, 3293, 3294, 3295, 3296, 3297, 3300, 3301, 3305, 3306, 3308, 3310, 3311, 3312, 3313, 3315, 3318, 3323, 3325, 3327, 3328, 3332, 3333, 3334, 3336, 3342, 3344, 3345, 3347, 3349, 3350, 3353, 3354, 3357, 3361, 3362, 3363, 3364, 3365, 3366, 3367, 3368, 3369, 3370, 3373, 3375, 3376, 3379, 3381, 3383, 3384, 3385, 3387, 3388, 3390, 3392, 3396, 3401, 3402, 3403, 3405, 3406, 3408, 3410, 3411, 3412, 3413, 3414, 3415, 3416, 3417, 3418, 3420, 3422, 3423, 3424, 3426, 3430, 3432, 3433, 3434, 3437, 3438, 3440, 3447, 3448, 3450, 3451, 3452, 3454, 3455, 3456, 3458, 3459, 3463, 3471, 3474, 3477, 3480, 3481, 3482, 3486, 3489, 3490, 3491, 3492, 3493, 3494, 3495, 3498, 3502, 3503, 3505, 3506, 3507, 3509, 3510, 3513, 3514, 3516, 3519, 3520, 3521, 3522, 3523, 3524, 3525, 3527, 3541, 3542, 3543, 3544, 3547, 3548, 3549, 3552, 3555, 3556, 3560, 3566, 3568, 3569, 3570, 3573, 3575, 3580, 3581, 3582, 3584, 3588, 3589, 3590, 3591, 3592, 3596, 3597, 3598, 3603, 3605, 3606, 3607, 3608, 3611, 3613, 3616, 3622, 3623, 3624, 3627, 3628, 3629, 3635, 3636, 3638, 3642, 3643, 3649, 3650, 3651, 3652, 3656, 3657, 3658, 3661, 3663, 3664, 3665, 3667, 3669, 3670, 3672, 3676, 3677, 3678, 3679, 3680, 3683, 3684, 3685, 3688, 3689, 3690, 3691, 3693, 3694, 3697, 3698, 3700, 3701, 3702, 3703, 3704, 3706, 3711, 3713, 3714, 3717, 3718, 3719, 3721, 3723, 3724, 3725, 3727, 3730, 3732, 3733, 3734, 3737, 3738, 3740, 3742, 3747, 3748, 3749, 3750, 3752, 3754, 3755, 3756, 3757, 3758, 3759, 3764, 3766, 3767, 3771, 3772, 3775, 3777, 3785, 3787, 3788, 3791, 3792, 3794, 3796, 3799, 3801, 3802, 3803, 3805, 3806, 3807, 3808, 3809, 3811, 3812, 3813, 3814, 3817, 3819, 3820, 3821, 3822, 3823, 3825, 3826, 3827, 3829, 3833, 3837, 3841, 3842, 3843, 3844, 3848, 3850, 3851, 3852, 3854, 3857, 3858, 3859, 3860, 3861, 3862, 3863, 3870, 3872, 3873, 3874, 3877, 3880, 3882, 3885, 3887, 3888, 3889, 3891, 3892, 3894, 3895, 3896, 3898, 3899, 3900, 3903, 3904, 3905, 3906, 3907, 3908, 3909, 3910, 3911, 3912, 3915, 3918, 3919, 3920, 3921, 3922, 3923, 3926, 3927, 3930, 3931, 3940, 3941, 3942, 3954, 3955, 3956, 3957, 3958, 3959, 3960, 3963, 3964, 3965, 3972, 3976, 3978, 3980, 3981, 3982, 3983, 3984, 3987, 3989, 3990, 3996, 3997, 3998, 3999, 4000, 4001, 4002, 4003, 4004, 4006, 4014, 4017, 4019, 4020, 4021, 4022, 4023, 4024, 4027, 4030, 4035, 4036, 4040, 4050, 4053, 4054, 4055, 4056, 4057, 4059, 4060, 4061, 4063, 4065, 4066, 4069, 4071, 4073, 4079, 4081, 4083, 4084, 4087, 4090, 4091, 4093, 4098, 4099, 4100, 4101, 4103, 4104, 4106, 4108, 4109, 4110, 4121, 4123, 4124, 4127, 4128, 4130, 4131, 4132, 4133, 4135, 4136, 4138, 4139, 4140, 4143, 4147, 4148, 4149, 4152, 4153, 4155, 4158, 4162, 4163, 4164, 4165, 4166, 4167, 4169, 4170, 4174, 4180, 4182, 4187, 4189, 4191, 4197, 4198, 4199, 4200, 4201, 4204, 4205, 4206, 4207, 4213, 4218, 4220, 4221, 4223, 4225, 4226, 4227, 4228, 4229, 4230, 4233, 4235, 4238, 4239, 4241, 4244, 4245, 4246, 4250, 4251, 4252, 4253, 4255, 4256, 4257, 4258, 4259, 4260, 4261, 4262, 4264, 4266, 4269, 4270, 4275, 4277, 4279, 4282, 4291, 4292, 4294, 4295, 4298, 4300, 4301, 4302, 4304, 4305, 4306, 4307, 4308, 4309, 4311, 4313, 4314, 4315, 4316, 4317, 4319, 4321, 4324, 4327, 4329, 4331, 4334, 4337, 4339, 4340, 4343, 4345, 4346, 4349, 4350, 4354, 4357, 4358, 4362, 4363, 4366, 4367, 4369, 4370, 4371, 4373, 4375, 4378, 4379, 4381, 4382, 4386, 4387, 4388, 4390, 4394, 4397, 4400, 4402, 4403, 4404, 4405, 4407, 4409, 4410, 4411, 4413, 4414, 4416, 4417, 4421, 4424, 4426, 4427, 4429, 4430, 4432, 4433, 4435, 4438, 4442, 4443, 4448, 4449, 4450, 4451, 4453, 4454, 4455, 4459, 4463, 4464, 4467, 4470, 4471, 4473, 4474, 4476, 4477, 4481, 4482, 4487, 4496, 4497, 4501, 4502, 4504, 4509, 4512, 4514, 4515, 4517, 4518, 4520, 4522, 4523, 4524, 4525, 4526, 4527, 4528, 4529, 4530, 4535, 4538, 4540, 4541, 4543, 4544, 4546, 4547, 4548, 4550, 4552, 4553, 4555, 4557, 4558, 4560, 4563, 4564, 4565, 4567, 4568, 4571, 4572, 4576, 4579, 4581, 4584, 4586, 4588, 4589, 4590, 4591, 4592, 4593, 4594, 4597, 4598, 4599, 4600, 4604, 4609, 4611, 4612, 4614, 4615, 4616, 4621, 4623, 4624, 4628, 4630, 4632, 4636, 4637, 4638, 4641, 4643, 4645, 4651, 4652, 4653, 4654, 4656, 4657, 4658, 4659, 4664, 4669, 4674, 4678, 4679, 4681, 4684, 4687, 4689, 4691, 4694, 4695, 4696, 4698, 4699, 4701, 4703, 4704, 4705, 4706, 4709, 4711, 4712, 4713, 4714, 4715, 4719, 4722, 4724, 4725, 4728, 4730, 4733, 4734, 4740, 4741, 4742, 4743, 4745, 4746, 4748, 4751, 4753, 4754, 4760, 4761, 4762, 4768, 4773, 4775, 4779, 4781, 4782, 4783, 4785, 4790, 4793, 4794, 4797, 4798, 4799, 4800, 4801, 4802, 4804, 4806, 4808, 4810, 4811, 4812, 4813, 4814, 4815, 4819, 4822, 4826, 4827, 4828, 4832, 4834, 4835, 4839, 4845, 4846, 4847, 4848, 4850, 4853, 4854, 4855, 4856, 4857, 4859, 4861, 4862, 4866, 4870, 4871, 4872, 4874, 4879, 4881, 4882, 4883, 4884, 4885, 4887, 4891, 4892, 4894, 4897, 4898, 4900, 4905, 4906, 4907, 4908, 4909, 4911, 4913, 4914, 4918, 4919, 4921, 4922, 4923, 4924, 4925, 4926, 4929, 4930, 4932, 4933, 4935, 4937, 4938, 4940, 4941, 4946, 4949, 4950, 4954, 4955, 4959, 4961, 4962, 4963, 4964, 4965, 4966, 4967, 4970, 4972, 4974, 4977, 4980, 4981, 4989, 4990, 4991, 4992, 4993, 4996, 4997, 4998, 4999, 5000, 5001, 5003, 5008, 5010, 5012, 5013, 5016, 5017, 5024, 5026, 5027, 5028, 5029, 5030, 5031, 5033, 5035, 5037, 5040, 5041, 5042, 5043, 5044, 5045, 5047, 5048, 5050, 5056, 5058, 5060, 5061, 5064, 5066, 5067, 5068, 5070, 5072, 5073, 5078, 5082, 5084, 5085, 5086, 5087, 5090, 5091, 5092, 5096, 5097, 5098, 5100, 5102, 5106, 5110, 5116, 5117, 5119, 5120, 5121, 5124, 5126, 5130, 5131, 5133, 5136, 5138, 5139, 5140, 5141, 5145, 5146, 5147, 5151, 5152, 5153, 5156, 5157, 5158, 5160, 5161, 5162, 5163, 5168, 5170, 5173, 5174, 5175, 5177, 5178, 5179, 5180, 5181, 5182, 5183, 5187, 5192, 5194, 5195, 5197, 5198, 5201, 5202, 5206, 5209, 5210, 5211, 5213, 5215, 5216, 5217, 5219, 5221, 5223, 5226, 5228, 5230, 5231, 5235, 5236, 5238, 5242, 5243, 5245, 5246, 5247, 5249, 5250, 5252, 5254, 5258, 5261, 5262, 5263, 5264, 5265, 5267, 5269, 5270, 5271, 5272, 5273, 5274, 5278, 5282, 5288, 5291, 5295, 5296, 5298, 5300, 5301, 5303, 5304, 5307, 5311, 5313, 5314, 5315, 5318, 5321, 5322, 5324, 5325, 5326, 5327, 5328, 5330, 5332, 5333, 5335, 5337, 5339, 5340, 5342, 5343, 5344, 5346, 5347, 5350, 5351, 5352, 5353, 5354, 5357, 5358, 5359, 5361, 5363, 5365, 5369, 5372, 5374, 5377, 5380, 5381, 5382, 5385, 5386, 5387, 5388, 5390, 5392, 5394, 5396, 5400, 5405, 5406, 5409, 5410, 5411, 5412, 5415, 5416, 5419, 5422, 5423, 5427, 5428, 5430, 5432, 5433, 5434, 5435, 5436, 5438, 5439, 5441, 5442, 5443, 5445, 5448, 5449, 5450, 5453, 5454, 5457, 5461, 5470, 5471, 5473, 5477, 5478, 5481, 5483, 5484, 5487, 5489, 5490, 5491, 5492, 5493, 5494, 5498, 5500, 5501, 5502, 5505, 5506, 5508, 5510, 5513, 5514, 5515, 5519, 5520, 5523, 5524, 5525, 5526, 5530, 5531, 5534, 5537, 5538, 5539, 5541, 5542, 5543, 5544, 5545, 5546, 5549, 5552, 5553, 5556, 5557, 5558, 5564, 5569, 5570, 5571, 5573, 5575, 5577, 5578, 5582, 5585, 5588, 5590, 5600, 5601, 5604, 5606, 5611, 5615, 5617, 5618, 5619, 5620, 5622, 5624, 5625, 5626, 5627, 5630, 5632, 5634, 5635, 5636, 5637, 5641, 5642, 5643, 5644, 5647, 5648, 5650, 5651, 5652, 5654, 5657, 5659, 5660, 5661, 5664, 5665, 5666, 5668, 5669, 5677, 5678, 5680, 5681, 5682, 5684, 5685, 5686, 5689, 5695, 5696, 5700, 5701, 5702, 5703, 5705, 5706, 5708, 5711, 5712, 5713, 5715, 5716, 5717, 5719, 5720, 5722, 5727, 5728, 5732, 5734, 5735, 5737, 5738, 5739, 5740, 5742, 5743, 5744, 5746, 5749, 5753, 5756, 5759, 5761, 5763, 5764, 5765, 5767, 5775, 5779, 5781, 5785, 5787, 5792, 5795, 5798, 5799, 5800, 5802, 5807, 5809, 5810, 5811, 5812, 5814, 5817, 5818, 5819, 5820, 5821, 5824, 5826, 5828, 5834, 5835, 5836, 5840, 5841, 5843, 5847, 5849, 5852, 5855, 5856, 5857, 5859, 5861, 5862, 5863, 5865, 5872, 5873, 5875, 5881, 5882, 5883, 5885, 5887, 5888, 5889, 5891, 5892, 5893, 5894, 5895, 5899, 5900, 5902, 5904, 5905, 5907, 5913, 5915, 5916, 5917, 5918, 5920, 5921, 5922, 5923, 5925, 5927, 5928, 5931, 5940, 5941, 5945, 5947, 5948, 5949, 5950, 5952, 5955, 5956, 5958, 5959, 5960, 5963, 5966, 5967, 5970, 5971, 5972, 5973, 5976, 5977, 5979, 5980, 5984, 5985, 5986, 5987, 5988, 5990, 5993, 5994, 6000, 6005, 6008, 6009, 6010, 6013, 6019, 6020, 6021, 6022, 6023, 6027, 6031, 6032, 6033, 6034, 6035, 6037, 6038, 6039, 6043, 6046, 6050, 6055, 6056, 6057, 6060, 6061, 6066, 6069, 6073, 6074, 6075, 6076, 6077, 6078, 6079, 6082, 6083, 6085, 6086, 6088, 6090, 6091, 6093, 6096, 6098, 6099, 6101, 6102, 6103, 6111, 6112, 6113, 6115, 6119, 6120, 6121, 6122, 6124, 6126, 6127, 6129, 6131, 6133, 6134, 6135, 6136, 6138, 6143, 6147, 6148, 6150, 6151, 6152, 6153, 6154, 6155, 6157, 6158, 6161, 6163, 6166, 6167, 6174, 6175, 6179, 6183, 6184, 6187, 6190, 6191, 6198, 6199, 6200, 6205, 6206, 6208, 6212, 6214, 6215, 6218, 6220, 6221, 6224, 6225, 6226, 6227, 6228, 6229, 6230, 6231, 6232, 6233, 6234, 6236, 6237, 6238, 6239, 6241, 6243, 6244, 6245, 6246, 6248, 6249, 6250, 6252, 6253, 6256, 6257, 6258, 6259, 6263, 6265, 6266, 6267, 6268, 6270, 6272, 6273, 6274, 6277, 6280, 6282, 6283, 6285, 6289, 6290, 6291, 6294, 6296, 6297, 6299, 6301, 6302, 6303, 6305, 6306, 6307, 6309, 6311, 6313, 6314, 6315, 6316, 6317, 6318, 6319, 6321, 6322, 6323, 6326, 6327, 6328, 6329, 6331, 6332, 6333, 6334, 6335, 6337, 6338, 6339, 6343, 6346, 6350, 6352, 6355, 6356, 6359, 6361, 6362, 6365, 6366, 6367, 6369, 6372, 6373, 6374, 6375, 6376, 6378, 6380, 6384, 6385, 6386, 6387, 6389, 6391, 6394, 6396, 6397, 6399, 6400, 6404, 6408, 6410, 6412, 6414, 6415, 6421, 6422, 6423, 6424, 6425, 6427, 6428, 6433, 6435, 6436, 6444, 6446, 6447, 6449, 6451, 6452, 6454, 6456, 6459, 6460, 6462, 6463, 6465, 6466, 6468, 6472, 6475, 6476, 6477, 6478, 6480, 6482, 6483, 6485, 6486, 6487, 6488, 6489, 6490, 6491, 6492, 6493, 6494, 6497, 6498, 6499, 6500, 6501, 6502, 6503, 6504, 6507, 6511, 6516, 6517, 6518, 6520, 6522, 6524, 6527, 6530, 6532, 6538, 6539, 6542, 6543, 6544, 6545, 6546, 6549, 6550, 6552, 6554, 6557, 6558, 6559, 6560, 6562, 6563, 6566, 6567, 6570, 6571, 6572, 6575, 6576, 6578, 6580, 6583, 6584, 6587, 6588, 6591, 6592, 6596, 6597, 6598, 6605, 6606, 6610, 6612, 6615, 6620, 6622, 6623, 6624, 6625, 6626, 6628, 6630, 6632, 6633, 6635, 6637, 6640, 6643, 6644, 6645, 6646, 6647, 6648, 6649, 6650, 6652, 6653, 6655, 6656, 6658, 6659, 6660, 6661, 6662, 6664, 6667, 6672, 6674, 6678, 6682, 6683, 6684, 6686, 6687, 6691, 6695, 6696, 6697, 6703, 6705, 6706, 6708, 6709, 6710, 6711, 6714, 6716, 6717, 6718, 6719, 6720, 6726, 6727, 6728, 6729, 6730, 6732, 6733, 6734, 6740, 6742, 6744, 6746, 6748, 6754, 6758, 6760, 6762, 6767, 6769, 6770, 6772, 6775, 6776, 6777, 6780, 6782, 6783, 6785, 6788, 6789, 6791, 6792, 6794, 6796, 6797, 6799, 6800, 6801, 6802, 6803, 6804, 6805, 6808, 6809, 6811, 6812, 6813, 6814, 6821, 6826, 6827, 6830, 6835, 6839, 6841, 6842, 6844, 6848, 6849, 6850, 6854, 6855, 6856, 6857, 6859, 6860, 6862, 6871, 6872, 6873, 6876, 6879, 6881, 6882, 6885, 6887, 6888, 6889, 6891, 6892, 6895, 6896, 6897, 6898, 6901, 6902, 6903, 6907, 6908, 6909, 6911, 6914, 6915, 6916, 6917, 6918, 6919, 6921, 6924, 6925, 6929, 6930, 6932, 6934, 6935, 6938, 6940, 6948, 6950, 6952, 6956, 6957, 6958, 6959, 6960, 6961, 6962, 6965, 6967, 6969, 6971, 6973, 6974, 6975, 6977, 6979, 6980, 6982, 6983, 6984, 6988, 6990, 6992, 6999, 7000, 7002, 7004, 7005, 7007, 7009, 7015, 7016, 7020, 7021, 7022, 7029, 7032, 7034, 7035, 7038, 7040, 7041, 7042, 7043, 7047, 7048, 7052, 7053, 7056, 7058, 7059, 7062, 7065, 7066, 7068, 7069, 7070, 7072, 7073, 7076, 7077, 7084, 7086, 7087, 7088, 7089, 7090, 7091, 7093, 7095, 7096, 7097, 7098, 7099, 7103, 7111, 7115, 7119, 7122, 7125, 7126, 7128, 7129, 7130, 7138, 7139, 7140, 7142, 7143, 7145, 7146, 7149, 7153, 7155, 7158, 7160, 7162, 7165, 7166, 7168, 7171, 7172, 7175, 7176, 7183, 7190, 7192, 7194, 7195, 7196, 7198, 7202, 7203, 7205, 7206, 7208, 7212, 7215, 7218, 7219, 7221, 7222, 7223, 7228, 7229, 7230, 7231, 7232, 7233, 7235, 7237, 7238, 7241, 7243, 7246, 7254, 7255, 7257, 7258, 7259, 7262, 7263, 7265, 7266, 7267, 7268, 7271, 7272, 7274, 7275, 7276, 7277, 7278, 7280, 7282, 7283, 7288, 7290, 7291, 7294, 7295, 7300, 7302, 7303, 7305, 7307, 7310, 7311, 7315, 7317, 7318, 7320, 7322, 7326, 7327, 7329, 7331, 7332, 7333, 7335, 7336, 7340, 7343, 7346, 7348, 7351, 7352, 7354, 7359, 7361, 7362, 7365, 7367, 7371, 7372, 7376, 7378, 7381, 7384, 7387, 7388, 7389, 7390, 7392, 7393, 7395, 7398, 7401, 7402, 7404, 7406, 7407, 7409, 7410, 7411, 7412, 7413, 7415, 7418, 7424, 7426, 7427, 7428, 7429, 7431, 7435, 7439, 7443, 7444, 7447, 7449, 7452, 7453, 7456, 7458, 7460, 7461, 7463, 7468, 7470, 7471, 7474, 7475, 7476, 7477, 7478, 7481, 7482, 7483, 7485, 7486, 7487, 7488, 7489, 7490, 7492, 7493, 7496, 7497, 7498, 7499, 7500, 7502, 7506, 7507, 7512, 7513, 7514, 7520, 7523, 7525, 7530, 7531, 7532, 7533, 7535, 7536, 7539, 7542, 7543, 7544, 7546, 7547, 7548, 7549, 7550, 7552, 7556, 7557, 7558, 7559, 7560, 7563, 7568, 7573, 7575, 7576, 7577, 7580, 7581, 7582, 7583, 7584, 7585, 7588, 7589, 7591, 7592, 7596, 7597, 7598, 7599, 7605, 7607, 7609, 7610, 7611, 7612, 7614, 7620, 7621, 7629, 7630, 7638, 7641, 7642, 7643, 7646, 7647, 7651, 7654, 7656, 7657, 7658, 7660, 7661, 7663, 7665, 7667, 7671, 7674, 7675, 7676, 7677, 7681, 7682, 7684, 7686, 7687, 7689, 7691, 7694, 7697, 7700, 7701, 7705, 7706, 7708, 7709, 7710, 7711, 7712, 7714, 7716, 7720, 7723, 7724, 7726, 7728, 7729, 7731, 7732, 7734, 7736, 7737, 7738, 7739, 7743, 7745, 7746, 7748, 7749, 7751, 7753, 7755, 7759, 7762, 7764, 7766, 7769, 7770, 7772, 7775, 7777, 7778, 7780, 7781, 7782, 7784, 7785, 7788, 7790, 7792, 7796, 7797, 7798, 7801, 7803, 7804, 7806, 7809, 7810, 7812, 7813, 7814, 7815, 7816, 7820, 7821, 7824, 7826, 7827, 7829, 7830, 7831, 7836, 7838, 7839, 7841, 7845, 7847, 7848, 7849, 7851, 7852, 7854, 7856, 7857, 7859, 7860, 7861, 7862, 7864, 7867, 7870, 7873, 7875, 7876, 7880, 7882, 7884, 7887, 7888, 7892, 7895, 7897, 7899, 7900, 7903, 7907, 7908, 7911, 7912, 7914, 7915, 7916, 7917, 7920, 7921, 7922, 7924, 7926, 7928, 7929, 7931, 7934, 7936, 7937, 7938, 7940, 7941, 7944, 7947, 7952, 7953, 7954, 7956, 7957, 7958, 7963, 7969, 7970, 7972, 7973, 7975, 7977, 7979, 7980, 7981, 7985, 7987, 7988, 7990, 7996, 8000, 8001, 8003, 8004, 8005, 8006, 8008, 8010, 8012, 8014, 8016, 8018, 8020, 8021, 8022, 8025, 8028, 8032, 8034, 8037, 8038, 8040, 8041, 8043, 8045, 8047, 8051, 8052, 8055, 8056, 8057, 8058, 8060, 8063, 8065, 8069, 8073, 8074, 8075, 8077, 8078, 8079, 8082, 8083, 8085, 8086, 8088, 8092, 8093, 8095, 8096, 8097, 8098, 8099, 8102, 8103, 8104, 8105, 8106, 8107, 8108, 8109, 8113, 8114, 8117, 8119, 8120, 8122, 8123, 8124, 8126, 8130, 8132, 8133, 8134, 8135, 8136, 8137, 8144, 8147, 8149, 8150, 8151, 8152, 8156, 8157, 8158, 8159, 8160, 8164, 8165, 8167, 8169, 8171, 8174, 8175, 8177, 8178, 8180, 8183, 8185, 8186, 8187, 8188, 8189, 8192, 8193, 8195, 8197, 8200, 8203, 8204, 8205, 8206, 8209, 8210, 8212, 8213, 8215, 8216, 8219, 8220, 8221, 8223, 8224, 8225, 8226, 8227, 8228, 8230, 8232, 8234, 8235, 8237, 8239, 8241, 8242, 8244, 8245, 8247, 8248, 8249, 8251, 8252, 8253, 8255, 8259, 8262, 8265, 8266, 8269, 8270, 8273, 8274, 8283, 8284, 8285, 8286, 8290, 8291, 8292, 8293, 8295, 8297, 8298, 8300, 8301, 8303, 8304, 8305, 8306, 8307, 8309, 8310, 8311, 8312, 8313, 8318, 8322, 8324, 8327, 8329, 8333, 8335, 8336, 8337, 8340, 8342, 8343, 8344, 8348, 8350, 8354, 8356, 8357, 8362, 8367, 8368, 8369, 8371, 8373, 8374, 8375, 8378, 8382, 8383, 8384, 8385, 8387, 8390, 8392, 8393, 8395, 8397, 8399, 8402, 8403, 8405, 8406, 8412, 8415, 8417]\n",
      "['ID']\n",
      "Columns containing the unique values :  [72.11, 72.5, 72.94, 73.02, 73.15, 73.24, 73.25, 73.34, 73.36, 73.4, 73.45, 73.52, 73.53, 73.59, 73.7, 73.71, 73.74, 73.76, 73.79, 73.83, 73.89, 74.0, 74.08, 74.1, 74.17, 74.2, 74.22, 74.27, 74.28, 74.35, 74.43, 74.5, 74.53, 74.54, 74.62, 74.66, 74.75, 74.76, 74.77, 74.79, 74.86, 74.87, 74.99, 75.05, 75.1, 75.19, 75.26, 75.38, 75.39, 75.41, 75.42, 75.51, 75.54, 75.59, 75.65, 75.71, 75.73, 75.79, 75.82, 75.85, 75.86, 75.88, 75.89, 75.9, 76.01, 76.1, 76.16, 76.18, 76.22, 76.26, 76.27, 76.32, 76.33, 76.38, 76.44, 76.56, 76.59, 76.64, 76.78, 76.8, 76.81, 76.84, 76.86, 76.96, 76.99, 77.06, 77.11, 77.14, 77.16, 77.23, 77.25, 77.31, 77.36, 77.38, 77.41, 77.42, 77.45, 77.47, 77.5, 77.62, 77.64, 77.68, 77.69, 77.77, 77.86, 78.01, 78.02, 78.1, 78.19, 78.22, 78.25, 78.4, 78.45, 78.47, 78.5, 78.63, 78.71, 78.88, 78.91, 78.95, 79.0, 79.03, 79.09, 79.22, 79.81, 79.97, 79.99, 80.01, 80.2, 80.29, 80.34, 80.44, 80.53, 80.62, 80.82, 81.06, 81.07, 81.08, 81.18, 81.96, 82.2, 82.21, 82.24, 82.44, 82.62, 82.79, 83.09, 83.23, 83.25, 83.42, 83.49, 83.67, 83.96, 83.98, 84.12, 84.15, 84.2, 84.22, 84.27, 84.39, 84.42, 84.48, 84.53, 84.56, 84.65, 84.72, 84.76, 84.8, 84.84, 84.85, 84.86, 84.9, 85.09, 85.13, 85.14, 85.17, 85.18, 85.2, 85.23, 85.37, 85.44, 85.48, 85.49, 85.55, 85.59, 85.61, 85.63, 85.68, 85.69, 85.71, 85.72, 85.74, 85.75, 85.76, 85.82, 85.83, 85.84, 85.86, 85.89, 85.91, 85.92, 85.93, 85.94, 85.96, 85.97, 85.98, 85.99, 86.03, 86.04, 86.07, 86.1, 86.15, 86.16, 86.18, 86.19, 86.23, 86.25, 86.27, 86.31, 86.33, 86.34, 86.38, 86.4, 86.41, 86.47, 86.48, 86.51, 86.56, 86.57, 86.6, 86.61, 86.66, 86.67, 86.72, 86.73, 86.77, 86.8, 86.81, 86.83, 86.86, 86.9, 86.91, 86.93, 86.94, 86.95, 86.96, 86.98, 87.0, 87.05, 87.06, 87.07, 87.09, 87.1, 87.12, 87.13, 87.14, 87.15, 87.16, 87.17, 87.2, 87.21, 87.22, 87.23, 87.24, 87.25, 87.26, 87.27, 87.28, 87.3, 87.31, 87.33, 87.35, 87.37, 87.38, 87.4, 87.41, 87.43, 87.44, 87.46, 87.47, 87.48, 87.49, 87.51, 87.52, 87.53, 87.54, 87.56, 87.57, 87.58, 87.61, 87.63, 87.65, 87.66, 87.67, 87.68, 87.71, 87.72, 87.73, 87.74, 87.75, 87.76, 87.78, 87.79, 87.8, 87.81, 87.82, 87.83, 87.84, 87.85, 87.86, 87.87, 87.89, 87.9, 87.91, 87.94, 87.95, 87.97, 87.98, 87.99, 88.0, 88.01, 88.02, 88.03, 88.04, 88.05, 88.06, 88.07, 88.08, 88.1, 88.11, 88.12, 88.13, 88.14, 88.15, 88.16, 88.17, 88.18, 88.19, 88.2, 88.21, 88.22, 88.23, 88.24, 88.25, 88.26, 88.27, 88.28, 88.29, 88.3, 88.31, 88.32, 88.34, 88.36, 88.38, 88.39, 88.4, 88.41, 88.42, 88.44, 88.45, 88.46, 88.47, 88.48, 88.49, 88.51, 88.52, 88.53, 88.54, 88.55, 88.57, 88.58, 88.59, 88.6, 88.61, 88.62, 88.63, 88.64, 88.65, 88.66, 88.67, 88.68, 88.69, 88.7, 88.71, 88.72, 88.73, 88.74, 88.75, 88.77, 88.78, 88.79, 88.8, 88.81, 88.82, 88.83, 88.84, 88.85, 88.86, 88.87, 88.88, 88.89, 88.9, 88.91, 88.92, 88.93, 88.95, 88.96, 88.97, 88.98, 88.99, 89.0, 89.01, 89.02, 89.03, 89.04, 89.05, 89.06, 89.07, 89.08, 89.09, 89.1, 89.11, 89.12, 89.13, 89.14, 89.15, 89.16, 89.17, 89.18, 89.19, 89.2, 89.21, 89.22, 89.23, 89.24, 89.25, 89.26, 89.28, 89.29, 89.3, 89.31, 89.33, 89.34, 89.35, 89.37, 89.38, 89.39, 89.4, 89.41, 89.42, 89.43, 89.44, 89.46, 89.47, 89.48, 89.49, 89.5, 89.51, 89.52, 89.53, 89.54, 89.55, 89.56, 89.57, 89.58, 89.59, 89.6, 89.61, 89.62, 89.63, 89.64, 89.65, 89.66, 89.67, 89.68, 89.69, 89.7, 89.71, 89.72, 89.73, 89.74, 89.75, 89.77, 89.79, 89.8, 89.81, 89.83, 89.84, 89.85, 89.86, 89.87, 89.88, 89.89, 89.9, 89.91, 89.93, 89.94, 89.95, 89.96, 89.97, 89.98, 89.99, 90.0, 90.01, 90.02, 90.03, 90.04, 90.05, 90.06, 90.08, 90.09, 90.1, 90.11, 90.13, 90.14, 90.16, 90.17, 90.18, 90.19, 90.2, 90.21, 90.22, 90.23, 90.24, 90.25, 90.26, 90.27, 90.28, 90.31, 90.32, 90.33, 90.34, 90.35, 90.36, 90.37, 90.38, 90.39, 90.4, 90.41, 90.42, 90.43, 90.44, 90.45, 90.46, 90.47, 90.48, 90.49, 90.51, 90.52, 90.53, 90.54, 90.55, 90.56, 90.57, 90.58, 90.59, 90.6, 90.62, 90.64, 90.65, 90.66, 90.67, 90.68, 90.69, 90.7, 90.71, 90.72, 90.73, 90.75, 90.76, 90.77, 90.78, 90.79, 90.8, 90.81, 90.82, 90.83, 90.84, 90.85, 90.86, 90.87, 90.88, 90.89, 90.9, 90.91, 90.92, 90.93, 90.94, 90.95, 90.96, 90.97, 90.98, 90.99, 91.0, 91.01, 91.02, 91.03, 91.04, 91.06, 91.07, 91.08, 91.1, 91.11, 91.12, 91.13, 91.14, 91.15, 91.16, 91.17, 91.19, 91.2, 91.21, 91.22, 91.23, 91.24, 91.26, 91.27, 91.29, 91.3, 91.31, 91.32, 91.33, 91.34, 91.35, 91.37, 91.38, 91.39, 91.4, 91.41, 91.43, 91.44, 91.45, 91.46, 91.47, 91.48, 91.49, 91.5, 91.51, 91.52, 91.53, 91.55, 91.56, 91.57, 91.58, 91.59, 91.6, 91.61, 91.62, 91.63, 91.65, 91.66, 91.67, 91.68, 91.7, 91.71, 91.74, 91.76, 91.77, 91.78, 91.79, 91.81, 91.82, 91.83, 91.84, 91.85, 91.86, 91.88, 91.89, 91.9, 91.91, 91.92, 91.93, 91.94, 91.96, 91.97, 91.98, 91.99, 92.0, 92.01, 92.02, 92.03, 92.04, 92.05, 92.06, 92.07, 92.08, 92.09, 92.1, 92.11, 92.12, 92.13, 92.16, 92.17, 92.18, 92.19, 92.2, 92.21, 92.22, 92.23, 92.25, 92.26, 92.27, 92.29, 92.3, 92.31, 92.32, 92.33, 92.34, 92.35, 92.36, 92.38, 92.39, 92.4, 92.41, 92.42, 92.43, 92.44, 92.45, 92.46, 92.47, 92.48, 92.49, 92.5, 92.51, 92.52, 92.53, 92.54, 92.55, 92.56, 92.57, 92.58, 92.59, 92.6, 92.62, 92.63, 92.64, 92.65, 92.66, 92.7, 92.72, 92.73, 92.74, 92.75, 92.76, 92.79, 92.8, 92.81, 92.82, 92.83, 92.84, 92.88, 92.9, 92.91, 92.92, 92.93, 92.94, 92.95, 92.96, 92.97, 92.98, 92.99, 93.0, 93.02, 93.03, 93.04, 93.05, 93.06, 93.08, 93.09, 93.1, 93.11, 93.12, 93.14, 93.15, 93.17, 93.18, 93.19, 93.2, 93.21, 93.22, 93.24, 93.25, 93.26, 93.27, 93.28, 93.29, 93.31, 93.32, 93.33, 93.34, 93.36, 93.38, 93.39, 93.4, 93.41, 93.42, 93.43, 93.45, 93.47, 93.48, 93.5, 93.51, 93.52, 93.53, 93.55, 93.56, 93.57, 93.58, 93.59, 93.6, 93.62, 93.64, 93.65, 93.67, 93.7, 93.71, 93.72, 93.74, 93.75, 93.76, 93.77, 93.78, 93.8, 93.81, 93.82, 93.83, 93.86, 93.87, 93.9, 93.91, 93.92, 93.93, 93.94, 93.95, 93.96, 93.97, 93.98, 94.0, 94.01, 94.02, 94.03, 94.05, 94.07, 94.08, 94.09, 94.1, 94.11, 94.12, 94.14, 94.16, 94.17, 94.18, 94.21, 94.24, 94.26, 94.27, 94.28, 94.29, 94.31, 94.32, 94.35, 94.36, 94.38, 94.39, 94.4, 94.41, 94.44, 94.45, 94.47, 94.5, 94.51, 94.52, 94.53, 94.54, 94.55, 94.56, 94.57, 94.59, 94.6, 94.61, 94.62, 94.64, 94.65, 94.67, 94.68, 94.69, 94.7, 94.71, 94.74, 94.75, 94.76, 94.77, 94.79, 94.8, 94.81, 94.82, 94.83, 94.84, 94.85, 94.86, 94.87, 94.88, 94.9, 94.91, 94.92, 94.95, 94.99, 95.0, 95.01, 95.03, 95.04, 95.1, 95.13, 95.15, 95.21, 95.22, 95.23, 95.24, 95.27, 95.28, 95.31, 95.33, 95.34, 95.35, 95.37, 95.38, 95.42, 95.43, 95.44, 95.46, 95.47, 95.48, 95.49, 95.5, 95.51, 95.56, 95.57, 95.58, 95.59, 95.6, 95.62, 95.64, 95.65, 95.66, 95.67, 95.69, 95.7, 95.71, 95.72, 95.73, 95.74, 95.75, 95.76, 95.77, 95.8, 95.81, 95.86, 95.87, 95.89, 95.92, 95.94, 95.96, 95.97, 95.98, 95.99, 96.0, 96.03, 96.05, 96.06, 96.08, 96.1, 96.11, 96.12, 96.14, 96.16, 96.17, 96.19, 96.21, 96.23, 96.26, 96.27, 96.28, 96.35, 96.36, 96.38, 96.41, 96.44, 96.45, 96.47, 96.48, 96.49, 96.51, 96.52, 96.53, 96.56, 96.59, 96.6, 96.61, 96.62, 96.65, 96.69, 96.74, 96.76, 96.77, 96.78, 96.79, 96.8, 96.81, 96.82, 96.83, 96.85, 96.87, 96.88, 96.91, 96.92, 96.93, 96.96, 96.97, 96.98, 96.99, 97.0, 97.02, 97.03, 97.04, 97.07, 97.09, 97.12, 97.14, 97.16, 97.17, 97.19, 97.2, 97.21, 97.22, 97.24, 97.26, 97.27, 97.28, 97.29, 97.3, 97.32, 97.33, 97.34, 97.36, 97.37, 97.41, 97.42, 97.43, 97.45, 97.46, 97.47, 97.51, 97.55, 97.57, 97.58, 97.63, 97.64, 97.67, 97.68, 97.69, 97.7, 97.71, 97.72, 97.74, 97.75, 97.76, 97.77, 97.78, 97.79, 97.8, 97.81, 97.84, 97.85, 97.86, 97.87, 97.89, 97.9, 97.91, 97.93, 97.94, 97.95, 97.96, 97.97, 97.98, 97.99, 98.01, 98.02, 98.03, 98.04, 98.05, 98.07, 98.08, 98.1, 98.11, 98.12, 98.13, 98.14, 98.15, 98.16, 98.17, 98.19, 98.22, 98.24, 98.25, 98.28, 98.31, 98.32, 98.33, 98.35, 98.36, 98.37, 98.38, 98.39, 98.42, 98.44, 98.45, 98.5, 98.51, 98.52, 98.54, 98.56, 98.57, 98.58, 98.59, 98.61, 98.64, 98.67, 98.68, 98.69, 98.7, 98.74, 98.75, 98.76, 98.78, 98.79, 98.81, 98.83, 98.84, 98.85, 98.86, 98.9, 98.91, 98.92, 98.93, 98.94, 98.95, 98.96, 98.97, 98.98, 99.0, 99.01, 99.02, 99.03, 99.05, 99.06, 99.08, 99.1, 99.11, 99.12, 99.13, 99.14, 99.15, 99.16, 99.17, 99.18, 99.2, 99.22, 99.23, 99.24, 99.26, 99.27, 99.28, 99.35, 99.37, 99.38, 99.4, 99.41, 99.43, 99.46, 99.47, 99.48, 99.49, 99.51, 99.52, 99.53, 99.54, 99.55, 99.56, 99.58, 99.59, 99.6, 99.63, 99.64, 99.65, 99.66, 99.67, 99.68, 99.69, 99.7, 99.72, 99.74, 99.78, 99.8, 99.82, 99.83, 99.84, 99.85, 99.86, 99.87, 99.91, 99.93, 99.94, 99.95, 99.98, 99.99, 100.0, 100.01, 100.02, 100.03, 100.04, 100.05, 100.07, 100.08, 100.09, 100.1, 100.11, 100.12, 100.13, 100.16, 100.21, 100.22, 100.24, 100.25, 100.27, 100.28, 100.29, 100.32, 100.33, 100.35, 100.36, 100.37, 100.38, 100.39, 100.4, 100.42, 100.44, 100.46, 100.49, 100.5, 100.52, 100.53, 100.54, 100.55, 100.56, 100.57, 100.58, 100.59, 100.61, 100.62, 100.63, 100.64, 100.67, 100.68, 100.71, 100.74, 100.75, 100.77, 100.78, 100.8, 100.81, 100.83, 100.85, 100.86, 100.87, 100.89, 100.9, 100.92, 100.93, 100.95, 100.97, 100.98, 101.0, 101.02, 101.03, 101.06, 101.07, 101.11, 101.12, 101.13, 101.14, 101.17, 101.18, 101.19, 101.2, 101.23, 101.25, 101.26, 101.27, 101.28, 101.29, 101.3, 101.32, 101.33, 101.34, 101.35, 101.37, 101.39, 101.42, 101.43, 101.44, 101.45, 101.46, 101.47, 101.48, 101.49, 101.52, 101.56, 101.57, 101.58, 101.59, 101.6, 101.62, 101.64, 101.65, 101.66, 101.68, 101.69, 101.7, 101.71, 101.74, 101.76, 101.79, 101.81, 101.82, 101.86, 101.87, 101.89, 101.9, 101.92, 101.94, 101.96, 101.97, 101.98, 101.99, 102.0, 102.04, 102.06, 102.08, 102.09, 102.13, 102.14, 102.15, 102.17, 102.18, 102.25, 102.29, 102.3, 102.31, 102.32, 102.33, 102.39, 102.42, 102.45, 102.46, 102.48, 102.49, 102.5, 102.51, 102.52, 102.56, 102.58, 102.6, 102.63, 102.65, 102.66, 102.7, 102.71, 102.76, 102.77, 102.78, 102.83, 102.86, 102.87, 102.88, 102.89, 102.91, 102.93, 102.97, 103.01, 103.03, 103.06, 103.07, 103.08, 103.1, 103.11, 103.14, 103.19, 103.2, 103.23, 103.31, 103.32, 103.34, 103.36, 103.39, 103.41, 103.42, 103.43, 103.45, 103.46, 103.47, 103.5, 103.53, 103.54, 103.57, 103.58, 103.59, 103.62, 103.63, 103.67, 103.68, 103.7, 103.71, 103.72, 103.75, 103.77, 103.82, 103.85, 103.86, 103.88, 103.89, 103.9, 103.91, 103.93, 103.96, 103.98, 103.99, 104.0, 104.07, 104.08, 104.09, 104.1, 104.16, 104.18, 104.19, 104.2, 104.21, 104.22, 104.25, 104.26, 104.28, 104.29, 104.31, 104.32, 104.33, 104.34, 104.36, 104.37, 104.38, 104.41, 104.42, 104.45, 104.49, 104.51, 104.52, 104.53, 104.55, 104.56, 104.57, 104.6, 104.61, 104.62, 104.65, 104.66, 104.67, 104.69, 104.72, 104.73, 104.74, 104.77, 104.78, 104.79, 104.82, 104.85, 104.87, 104.88, 104.89, 104.91, 104.92, 104.93, 104.95, 104.97, 105.0, 105.03, 105.04, 105.05, 105.06, 105.08, 105.09, 105.1, 105.11, 105.13, 105.15, 105.17, 105.18, 105.21, 105.23, 105.24, 105.25, 105.28, 105.29, 105.3, 105.31, 105.34, 105.35, 105.36, 105.4, 105.41, 105.42, 105.43, 105.45, 105.46, 105.47, 105.49, 105.5, 105.51, 105.52, 105.53, 105.54, 105.55, 105.56, 105.57, 105.59, 105.61, 105.64, 105.65, 105.66, 105.67, 105.68, 105.7, 105.71, 105.72, 105.73, 105.74, 105.76, 105.77, 105.78, 105.79, 105.8, 105.81, 105.82, 105.83, 105.85, 105.87, 105.89, 105.91, 105.94, 105.95, 105.96, 105.97, 105.98, 106.0, 106.02, 106.03, 106.04, 106.05, 106.06, 106.08, 106.09, 106.1, 106.13, 106.14, 106.16, 106.18, 106.19, 106.2, 106.22, 106.23, 106.27, 106.28, 106.3, 106.31, 106.32, 106.33, 106.34, 106.35, 106.36, 106.37, 106.38, 106.39, 106.4, 106.41, 106.44, 106.45, 106.46, 106.47, 106.5, 106.51, 106.52, 106.53, 106.54, 106.55, 106.56, 106.57, 106.58, 106.59, 106.6, 106.61, 106.62, 106.63, 106.64, 106.65, 106.66, 106.67, 106.72, 106.73, 106.74, 106.77, 106.78, 106.79, 106.81, 106.82, 106.83, 106.84, 106.85, 106.87, 106.88, 106.89, 106.9, 106.91, 106.93, 106.95, 106.96, 106.97, 106.98, 107.01, 107.03, 107.04, 107.05, 107.09, 107.1, 107.11, 107.12, 107.13, 107.14, 107.15, 107.16, 107.22, 107.24, 107.26, 107.28, 107.29, 107.3, 107.34, 107.35, 107.36, 107.37, 107.38, 107.39, 107.4, 107.42, 107.43, 107.44, 107.45, 107.46, 107.47, 107.48, 107.5, 107.51, 107.53, 107.54, 107.59, 107.61, 107.62, 107.63, 107.65, 107.66, 107.67, 107.68, 107.69, 107.7, 107.71, 107.72, 107.73, 107.74, 107.75, 107.76, 107.77, 107.78, 107.79, 107.81, 107.82, 107.83, 107.85, 107.86, 107.87, 107.9, 107.93, 107.94, 107.96, 107.97, 107.98, 107.99, 108.0, 108.01, 108.02, 108.03, 108.05, 108.06, 108.07, 108.08, 108.09, 108.12, 108.13, 108.14, 108.15, 108.16, 108.19, 108.2, 108.21, 108.23, 108.24, 108.25, 108.26, 108.27, 108.28, 108.3, 108.31, 108.32, 108.33, 108.34, 108.35, 108.36, 108.37, 108.38, 108.39, 108.4, 108.41, 108.42, 108.43, 108.46, 108.47, 108.48, 108.49, 108.51, 108.52, 108.53, 108.54, 108.56, 108.57, 108.58, 108.59, 108.61, 108.62, 108.64, 108.65, 108.66, 108.67, 108.68, 108.69, 108.7, 108.71, 108.72, 108.73, 108.74, 108.75, 108.76, 108.77, 108.8, 108.82, 108.83, 108.84, 108.85, 108.86, 108.87, 108.88, 108.9, 108.92, 108.93, 108.94, 108.96, 108.97, 108.98, 108.99, 109.0, 109.01, 109.02, 109.03, 109.04, 109.05, 109.07, 109.08, 109.09, 109.1, 109.11, 109.12, 109.13, 109.16, 109.17, 109.18, 109.19, 109.21, 109.22, 109.24, 109.25, 109.26, 109.28, 109.29, 109.3, 109.31, 109.32, 109.33, 109.34, 109.36, 109.37, 109.38, 109.39, 109.4, 109.42, 109.43, 109.44, 109.45, 109.47, 109.48, 109.49, 109.5, 109.51, 109.53, 109.54, 109.55, 109.58, 109.59, 109.6, 109.61, 109.62, 109.63, 109.64, 109.65, 109.66, 109.67, 109.68, 109.69, 109.7, 109.71, 109.72, 109.73, 109.74, 109.75, 109.76, 109.77, 109.78, 109.79, 109.81, 109.82, 109.85, 109.87, 109.9, 109.91, 109.92, 109.93, 109.94, 109.96, 109.97, 109.98, 109.99, 110.0, 110.01, 110.02, 110.03, 110.05, 110.06, 110.07, 110.1, 110.11, 110.12, 110.14, 110.15, 110.16, 110.17, 110.2, 110.21, 110.22, 110.23, 110.24, 110.29, 110.32, 110.33, 110.35, 110.36, 110.37, 110.38, 110.39, 110.42, 110.43, 110.44, 110.46, 110.47, 110.48, 110.49, 110.5, 110.52, 110.53, 110.54, 110.55, 110.56, 110.57, 110.58, 110.59, 110.6, 110.63, 110.64, 110.65, 110.66, 110.7, 110.71, 110.74, 110.75, 110.76, 110.8, 110.81, 110.83, 110.84, 110.85, 110.86, 110.87, 110.88, 110.89, 110.9, 110.91, 110.92, 110.93, 110.94, 110.95, 110.96, 110.97, 110.98, 111.01, 111.02, 111.03, 111.04, 111.05, 111.07, 111.08, 111.09, 111.1, 111.11, 111.12, 111.14, 111.15, 111.16, 111.17, 111.19, 111.21, 111.22, 111.24, 111.25, 111.31, 111.32, 111.33, 111.34, 111.38, 111.4, 111.41, 111.42, 111.44, 111.45, 111.46, 111.47, 111.48, 111.49, 111.5, 111.51, 111.52, 111.54, 111.55, 111.56, 111.57, 111.58, 111.59, 111.64, 111.65, 111.66, 111.67, 111.68, 111.7, 111.74, 111.75, 111.77, 111.83, 111.85, 111.86, 111.88, 111.89, 111.9, 111.91, 111.92, 112.0, 112.03, 112.04, 112.05, 112.06, 112.07, 112.08, 112.09, 112.12, 112.17, 112.19, 112.2, 112.22, 112.25, 112.26, 112.27, 112.28, 112.3, 112.31, 112.32, 112.34, 112.35, 112.36, 112.38, 112.39, 112.41, 112.42, 112.43, 112.44, 112.46, 112.47, 112.48, 112.49, 112.5, 112.51, 112.53, 112.54, 112.55, 112.56, 112.57, 112.59, 112.61, 112.62, 112.66, 112.67, 112.69, 112.71, 112.72, 112.75, 112.76, 112.78, 112.8, 112.82, 112.83, 112.86, 112.88, 112.89, 112.9, 112.94, 112.95, 112.97, 112.99, 113.01, 113.02, 113.03, 113.07, 113.08, 113.09, 113.1, 113.11, 113.12, 113.14, 113.15, 113.17, 113.24, 113.28, 113.31, 113.33, 113.34, 113.35, 113.36, 113.39, 113.4, 113.41, 113.43, 113.5, 113.52, 113.55, 113.56, 113.58, 113.62, 113.64, 113.65, 113.67, 113.68, 113.69, 113.7, 113.71, 113.72, 113.74, 113.75, 113.77, 113.8, 113.82, 113.83, 113.86, 113.87, 113.88, 113.91, 113.93, 113.94, 113.95, 113.98, 113.99, 114.01, 114.07, 114.08, 114.1, 114.11, 114.12, 114.13, 114.16, 114.18, 114.21, 114.22, 114.23, 114.25, 114.26, 114.27, 114.28, 114.29, 114.3, 114.32, 114.33, 114.34, 114.35, 114.37, 114.39, 114.4, 114.43, 114.44, 114.46, 114.47, 114.5, 114.51, 114.52, 114.53, 114.55, 114.56, 114.57, 114.58, 114.6, 114.61, 114.63, 114.65, 114.66, 114.71, 114.73, 114.76, 114.78, 114.8, 114.83, 114.85, 114.87, 114.88, 114.89, 114.91, 114.92, 114.94, 115.0, 115.04, 115.05, 115.07, 115.1, 115.13, 115.14, 115.15, 115.16, 115.18, 115.19, 115.21, 115.22, 115.24, 115.25, 115.27, 115.31, 115.32, 115.33, 115.39, 115.41, 115.42, 115.43, 115.44, 115.45, 115.5, 115.53, 115.6, 115.62, 115.64, 115.66, 115.67, 115.72, 115.73, 115.75, 115.81, 115.82, 115.83, 115.88, 115.92, 115.94, 115.95, 116.0, 116.02, 116.03, 116.04, 116.07, 116.08, 116.13, 116.16, 116.18, 116.2, 116.21, 116.23, 116.28, 116.3, 116.34, 116.36, 116.37, 116.39, 116.41, 116.42, 116.46, 116.5, 116.51, 116.55, 116.57, 116.59, 116.6, 116.61, 116.65, 116.67, 116.68, 116.73, 116.75, 116.79, 116.82, 116.87, 116.93, 117.01, 117.03, 117.06, 117.07, 117.08, 117.09, 117.14, 117.24, 117.26, 117.27, 117.28, 117.29, 117.3, 117.31, 117.32, 117.35, 117.36, 117.4, 117.46, 117.48, 117.49, 117.52, 117.59, 117.6, 117.67, 117.71, 117.81, 117.83, 117.85, 117.89, 117.98, 118.02, 118.06, 118.14, 118.17, 118.18, 118.23, 118.24, 118.27, 118.31, 118.38, 118.41, 118.42, 118.44, 118.45, 118.53, 118.54, 118.61, 118.62, 118.71, 118.72, 118.73, 118.74, 118.77, 118.78, 118.81, 118.83, 118.85, 118.86, 118.87, 118.9, 118.93, 119.01, 119.02, 119.03, 119.08, 119.2, 119.22, 119.24, 119.28, 119.3, 119.31, 119.35, 119.38, 119.39, 119.44, 119.46, 119.47, 119.48, 119.5, 119.51, 119.56, 119.57, 119.59, 119.65, 119.7, 119.71, 119.72, 119.75, 119.76, 119.78, 119.87, 119.88, 119.89, 119.94, 119.99, 120.12, 120.17, 120.18, 120.38, 120.76, 120.77, 120.78, 120.8, 120.81, 120.86, 120.9, 120.91, 120.94, 120.95, 121.03, 121.06, 121.1, 121.11, 121.15, 121.18, 121.19, 121.22, 121.23, 121.27, 121.28, 121.31, 121.41, 121.5, 121.57, 121.6, 121.64, 121.65, 121.79, 121.84, 121.85, 121.91, 121.92, 122.01, 122.09, 122.12, 122.2, 122.22, 122.24, 122.28, 122.31, 122.36, 122.4, 122.45, 122.47, 122.51, 122.65, 122.66, 122.69, 122.72, 122.87, 123.09, 123.11, 123.17, 123.24, 123.31, 123.34, 123.47, 123.68, 123.69, 123.86, 123.89, 124.17, 124.31, 124.37, 124.6, 124.64, 124.75, 125.03, 125.06, 125.1, 125.25, 125.26, 125.38, 125.44, 125.45, 125.46, 125.72, 125.75, 125.76, 125.84, 125.91, 125.98, 126.11, 126.17, 126.41, 126.52, 126.68, 126.95, 126.97, 126.99, 127.06, 127.19, 127.27, 127.42, 127.66, 127.91, 128.02, 128.05, 128.1, 128.14, 128.19, 128.25, 128.3, 128.35, 128.36, 128.37, 128.58, 128.67, 128.76, 128.78, 128.8, 128.87, 128.93, 128.94, 129.0, 129.16, 129.19, 129.32, 129.45, 129.65, 130.0, 130.6, 130.81, 130.97, 131.56, 131.67, 131.69, 131.98, 132.1, 132.29, 132.59, 132.6, 132.61, 132.65, 132.7, 132.86, 133.09, 133.36, 133.5, 133.55, 133.86, 134.04, 134.08, 134.21, 134.26, 134.43, 134.81, 135.13, 135.14, 135.29, 135.48, 135.53, 136.41, 136.47, 136.56, 136.75, 136.96, 137.09, 137.32, 137.44, 137.49, 138.19, 139.07, 139.08, 139.16, 139.2, 139.61, 140.15, 140.25, 140.31, 140.41, 140.49, 141.09, 141.31, 141.39, 142.46, 142.71, 144.36, 144.56, 146.3, 146.83, 147.22, 147.72, 148.94, 149.52, 149.63, 150.43, 150.89, 152.32, 153.51, 154.16, 154.43, 154.87, 155.62, 158.23, 158.53, 160.87, 165.52, 167.45, 169.91, 265.32]\n",
      "['y']\n",
      "Columns containing the unique values :  [0, 1]\n",
      "['X10', 'X12', 'X13', 'X14', 'X15', 'X16', 'X17', 'X18', 'X19', 'X20', 'X21', 'X22', 'X23', 'X24', 'X26', 'X27', 'X28', 'X29', 'X30', 'X31', 'X32', 'X33', 'X34', 'X35', 'X36', 'X37', 'X38', 'X39', 'X40', 'X41', 'X42', 'X43', 'X44', 'X45', 'X46', 'X47', 'X48', 'X49', 'X50', 'X51', 'X52', 'X53', 'X54', 'X55', 'X56', 'X57', 'X58', 'X59', 'X60', 'X61', 'X62', 'X63', 'X64', 'X65', 'X66', 'X67', 'X68', 'X69', 'X70', 'X71', 'X73', 'X74', 'X75', 'X76', 'X77', 'X78', 'X79', 'X80', 'X81', 'X82', 'X83', 'X84', 'X85', 'X86', 'X87', 'X88', 'X89', 'X90', 'X91', 'X92', 'X94', 'X95', 'X96', 'X97', 'X98', 'X99', 'X100', 'X101', 'X102', 'X103', 'X104', 'X105', 'X106', 'X108', 'X109', 'X110', 'X111', 'X112', 'X113', 'X114', 'X115', 'X116', 'X117', 'X118', 'X119', 'X120', 'X122', 'X123', 'X124', 'X125', 'X126', 'X127', 'X128', 'X129', 'X130', 'X131', 'X132', 'X133', 'X134', 'X135', 'X136', 'X137', 'X138', 'X139', 'X140', 'X141', 'X142', 'X143', 'X144', 'X145', 'X146', 'X147', 'X148', 'X150', 'X151', 'X152', 'X153', 'X154', 'X155', 'X156', 'X157', 'X158', 'X159', 'X160', 'X161', 'X162', 'X163', 'X164', 'X165', 'X166', 'X167', 'X168', 'X169', 'X170', 'X171', 'X172', 'X173', 'X174', 'X175', 'X176', 'X177', 'X178', 'X179', 'X180', 'X181', 'X182', 'X183', 'X184', 'X185', 'X186', 'X187', 'X189', 'X190', 'X191', 'X192', 'X194', 'X195', 'X196', 'X197', 'X198', 'X199', 'X200', 'X201', 'X202', 'X203', 'X204', 'X205', 'X206', 'X207', 'X208', 'X209', 'X210', 'X211', 'X212', 'X213', 'X214', 'X215', 'X216', 'X217', 'X218', 'X219', 'X220', 'X221', 'X222', 'X223', 'X224', 'X225', 'X226', 'X227', 'X228', 'X229', 'X230', 'X231', 'X232', 'X234', 'X236', 'X237', 'X238', 'X239', 'X240', 'X241', 'X242', 'X243', 'X244', 'X245', 'X246', 'X247', 'X248', 'X249', 'X250', 'X251', 'X252', 'X253', 'X254', 'X255', 'X256', 'X257', 'X258', 'X259', 'X260', 'X261', 'X262', 'X263', 'X264', 'X265', 'X266', 'X267', 'X269', 'X270', 'X271', 'X272', 'X273', 'X274', 'X275', 'X276', 'X277', 'X278', 'X279', 'X280', 'X281', 'X282', 'X283', 'X284', 'X285', 'X286', 'X287', 'X288', 'X291', 'X292', 'X294', 'X295', 'X296', 'X298', 'X299', 'X300', 'X301', 'X302', 'X304', 'X305', 'X306', 'X307', 'X308', 'X309', 'X310', 'X311', 'X312', 'X313', 'X314', 'X315', 'X316', 'X317', 'X318', 'X319', 'X320', 'X321', 'X322', 'X323', 'X324', 'X325', 'X326', 'X327', 'X328', 'X329', 'X331', 'X332', 'X333', 'X334', 'X335', 'X336', 'X337', 'X338', 'X339', 'X340', 'X341', 'X342', 'X343', 'X344', 'X345', 'X346', 'X348', 'X349', 'X350', 'X351', 'X352', 'X353', 'X354', 'X355', 'X356', 'X357', 'X358', 'X359', 'X360', 'X361', 'X362', 'X363', 'X364', 'X365', 'X366', 'X367', 'X368', 'X369', 'X370', 'X371', 'X372', 'X373', 'X374', 'X375', 'X376', 'X377', 'X378', 'X379', 'X380', 'X382', 'X383', 'X384', 'X385']\n",
      "Columns containing the unique values :  [0]\n",
      "['X11', 'X93', 'X107', 'X233', 'X235', 'X268', 'X289', 'X290', 'X293', 'X297', 'X330', 'X347']\n"
     ]
    }
   ],
   "source": [
    "unique_vals_dict={}\n",
    "for col in train.columns:\n",
    "    if col not in ['ID''y','X0','X1','X2','X3','X4','X5','X6','X8']:\n",
    "        unique_value=str(np.sort(train[col].unique()).tolist())\n",
    "        tlist=unique_vals_dict.get(unique_value,[])\n",
    "        tlist.append(col)\n",
    "        unique_vals_dict[unique_value]=tlist[:]\n",
    "for unique_values,columns in unique_vals_dict.items():\n",
    "        print(\"Columns containing the unique values : \",unique_values)\n",
    "        print(columns)"
   ]
  },
  {
   "cell_type": "code",
   "execution_count": 14,
   "metadata": {},
   "outputs": [
    {
     "data": {
      "text/plain": [
       "(4209, 565)"
      ]
     },
     "execution_count": 14,
     "metadata": {},
     "output_type": "execute_result"
    }
   ],
   "source": [
    "X.shape"
   ]
  },
  {
   "cell_type": "markdown",
   "metadata": {},
   "source": [
    "### Principal Componenets Analysis (PCA)"
   ]
  },
  {
   "cell_type": "code",
   "execution_count": 16,
   "metadata": {},
   "outputs": [],
   "source": [
    "X.drop(['ID','y'],axis=1,inplace=True)"
   ]
  },
  {
   "cell_type": "code",
   "execution_count": 18,
   "metadata": {},
   "outputs": [
    {
     "data": {
      "image/png": "[encoded data removed]",
      "text/plain": [
       "<Figure size 432x288 with 1 Axes>"
      ]
     },
     "metadata": {
      "needs_background": "light"
     },
     "output_type": "display_data"
    }
   ],
   "source": [
    "## Determining the number of components to be taken\n",
    "pca=PCA().fit(X)\n",
    "plt.plot(np.cumsum(pca.explained_variance_ratio_))\n",
    "plt.xlabel('No.of Components')\n",
    "plt.ylabel('Cumulative Explained Variance');"
   ]
  },
  {
   "cell_type": "code",
   "execution_count": 19,
   "metadata": {},
   "outputs": [
    {
     "data": {
      "text/plain": [
       "563"
      ]
     },
     "execution_count": 19,
     "metadata": {},
     "output_type": "execute_result"
    }
   ],
   "source": [
    "min(X.shape)"
   ]
  },
  {
   "cell_type": "raw",
   "metadata": {},
   "source": [
    "We can choose 'arpack' because we have verified the condition 0 < n_components < min(X.shape), \n",
    "because we have 0 < 200 < 563"
   ]
  },
  {
   "cell_type": "code",
   "execution_count": 20,
   "metadata": {},
   "outputs": [
    {
     "data": {
      "text/plain": [
       "PCA(n_components=200, svd_solver='arpack')"
      ]
     },
     "execution_count": 20,
     "metadata": {},
     "output_type": "execute_result"
    }
   ],
   "source": [
    "pca=PCA(n_components=200,svd_solver='arpack')\n",
    "pca.fit(X)"
   ]
  },
  {
   "cell_type": "code",
   "execution_count": 21,
   "metadata": {},
   "outputs": [
    {
     "data": {
      "text/plain": [
       "(4209, 200)"
      ]
     },
     "execution_count": 21,
     "metadata": {},
     "output_type": "execute_result"
    }
   ],
   "source": [
    "pca_dat= pca.transform(X)\n",
    "pca_dat.shape"
   ]
  },
  {
   "cell_type": "code",
   "execution_count": 22,
   "metadata": {},
   "outputs": [],
   "source": [
    "y=train['y']"
   ]
  },
  {
   "cell_type": "code",
   "execution_count": 23,
   "metadata": {},
   "outputs": [
    {
     "data": {
      "text/plain": [
       "(4209,)"
      ]
     },
     "execution_count": 23,
     "metadata": {},
     "output_type": "execute_result"
    }
   ],
   "source": [
    "y.shape"
   ]
  },
  {
   "cell_type": "code",
   "execution_count": 24,
   "metadata": {},
   "outputs": [
    {
     "data": {
      "text/plain": [
       "(4209, 563)"
      ]
     },
     "execution_count": 24,
     "metadata": {},
     "output_type": "execute_result"
    }
   ],
   "source": [
    "X.shape"
   ]
  },
  {
   "cell_type": "markdown",
   "metadata": {},
   "source": [
    "### Truncated SVD"
   ]
  },
  {
   "cell_type": "code",
   "execution_count": 26,
   "metadata": {},
   "outputs": [],
   "source": [
    "from sklearn.decomposition import TruncatedSVD\n",
    "from scipy.sparse import csr_matrix"
   ]
  },
  {
   "cell_type": "code",
   "execution_count": 27,
   "metadata": {},
   "outputs": [],
   "source": [
    "X_sparse=csr_matrix(X)\n",
    "tsvd = TruncatedSVD(n_components=X_sparse.shape[1]-1)\n",
    "X_tsvd = tsvd.fit(X)"
   ]
  },
  {
   "cell_type": "code",
   "execution_count": 28,
   "metadata": {},
   "outputs": [
    {
     "data": {
      "image/png": "[encoded data removed]",
      "text/plain": [
       "<Figure size 432x288 with 1 Axes>"
      ]
     },
     "metadata": {
      "needs_background": "light"
     },
     "output_type": "display_data"
    }
   ],
   "source": [
    "plt.plot(np.cumsum(tsvd.explained_variance_ratio_))\n",
    "plt.xlabel('No.of Components')\n",
    "plt.ylabel('Cumulative Explained Variance');"
   ]
  },
  {
   "cell_type": "code",
   "execution_count": 31,
   "metadata": {},
   "outputs": [
    {
     "data": {
      "text/plain": [
       "(4209, 200)"
      ]
     },
     "execution_count": 31,
     "metadata": {},
     "output_type": "execute_result"
    }
   ],
   "source": [
    "tsvd= TruncatedSVD(n_components=200)\n",
    "tsvd.fit(X)\n",
    "tsvd_dat= tsvd.transform(X)\n",
    "tsvd_dat.shape"
   ]
  },
  {
   "cell_type": "markdown",
   "metadata": {},
   "source": [
    "### Kernel PCA"
   ]
  },
  {
   "cell_type": "code",
   "execution_count": 32,
   "metadata": {},
   "outputs": [],
   "source": [
    "from sklearn.decomposition import KernelPCA"
   ]
  },
  {
   "cell_type": "code",
   "execution_count": 33,
   "metadata": {},
   "outputs": [
    {
     "data": {
      "text/plain": [
       "(4209, 200)"
      ]
     },
     "execution_count": 33,
     "metadata": {},
     "output_type": "execute_result"
    }
   ],
   "source": [
    "ker_pca= KernelPCA(n_components=200,kernel='rbf')\n",
    "ker_pca.fit(X)\n",
    "ker_dat= ker_pca.transform(X)\n",
    "ker_dat.shape"
   ]
  },
  {
   "cell_type": "markdown",
   "metadata": {},
   "source": [
    "### Split Train Test Data"
   ]
  },
  {
   "cell_type": "code",
   "execution_count": 34,
   "metadata": {},
   "outputs": [],
   "source": [
    "X_train1,X_test1,y_train1,y_test1=train_test_split(pca_dat,y,test_size=0.3)\n",
    "X_train2,X_test2,y_train2,y_test2=train_test_split(tsvd_dat,y,test_size=0.3)\n",
    "X_train3,X_test3,y_train3,y_test3=train_test_split(ker_dat,y,test_size=0.3)"
   ]
  },
  {
   "cell_type": "raw",
   "metadata": {},
   "source": [
    "Now we have split the Training and Test data for instances of the dataset tranformed by each dimensionality reducution technique"
   ]
  },
  {
   "cell_type": "markdown",
   "metadata": {},
   "source": [
    "### Regression Model Building"
   ]
  },
  {
   "cell_type": "code",
   "execution_count": 39,
   "metadata": {},
   "outputs": [],
   "source": [
    "Regressors=[\n",
    "    LinearRegression(),\n",
    "    SVR(kernel='linear'),\n",
    "    RandomForestRegressor(),\n",
    "    GradientBoostingRegressor()\n",
    "]"
   ]
  },
  {
   "cell_type": "code",
   "execution_count": 36,
   "metadata": {},
   "outputs": [],
   "source": [
    "import time"
   ]
  },
  {
   "cell_type": "markdown",
   "metadata": {},
   "source": [
    "#### Models on PCA reduced data"
   ]
  },
  {
   "cell_type": "code",
   "execution_count": 40,
   "metadata": {},
   "outputs": [],
   "source": [
    "# Define function to input the train and test data and output the MSE scores for each technique\n",
    "def mse_score(X_train,X_test,y_train,y_test):\n",
    "    for regr in Regressors:\n",
    "        s=time.time()\n",
    "        regr.fit(X_train,y_train)\n",
    "        y_pred= regr.predict(X_test)\n",
    "        mse=mean_squared_error(y_pred,y_test)\n",
    "        e=time.time()\n",
    "        print(f\"MSE: {round(mse,3)} \\t Time(in secs): {round(e-s,3)} \\t Regressor: {regr.__class__.__name__}\")"
   ]
  },
  {
   "cell_type": "code",
   "execution_count": 41,
   "metadata": {},
   "outputs": [
    {
     "name": "stdout",
     "output_type": "stream",
     "text": [
      "MSE: 68.475 \t Time(in secs): 0.106 \t Regressor: LinearRegression\n",
      "MSE: 71.359 \t Time(in secs): 4.061 \t Regressor: SVR\n",
      "MSE: 87.799 \t Time(in secs): 129.452 \t Regressor: RandomForestRegressor\n",
      "MSE: 78.842 \t Time(in secs): 39.132 \t Regressor: GradientBoostingRegressor\n"
     ]
    }
   ],
   "source": [
    "mse_score(X_train1,X_test1,y_train1,y_test1)"
   ]
  },
  {
   "cell_type": "markdown",
   "metadata": {},
   "source": [
    "#### Models on Truncated SVD Data"
   ]
  },
  {
   "cell_type": "code",
   "execution_count": 42,
   "metadata": {},
   "outputs": [
    {
     "name": "stdout",
     "output_type": "stream",
     "text": [
      "MSE: 90.941 \t Time(in secs): 0.113 \t Regressor: LinearRegression\n",
      "MSE: 94.997 \t Time(in secs): 4.657 \t Regressor: SVR\n",
      "MSE: 97.888 \t Time(in secs): 115.063 \t Regressor: RandomForestRegressor\n",
      "MSE: 98.354 \t Time(in secs): 40.078 \t Regressor: GradientBoostingRegressor\n"
     ]
    }
   ],
   "source": [
    "mse_score(X_train2,X_test2,y_train2,y_test2)"
   ]
  },
  {
   "cell_type": "markdown",
   "metadata": {},
   "source": [
    "#### Models on Kernel PCA Data"
   ]
  },
  {
   "cell_type": "code",
   "execution_count": 43,
   "metadata": {},
   "outputs": [
    {
     "name": "stdout",
     "output_type": "stream",
     "text": [
      "MSE: 66.702 \t Time(in secs): 0.141 \t Regressor: LinearRegression\n",
      "MSE: 88.933 \t Time(in secs): 3.42 \t Regressor: SVR\n",
      "MSE: 73.206 \t Time(in secs): 123.999 \t Regressor: RandomForestRegressor\n",
      "MSE: 70.994 \t Time(in secs): 38.576 \t Regressor: GradientBoostingRegressor\n"
     ]
    }
   ],
   "source": [
    "mse_score(X_train3,X_test3,y_train3,y_test3)"
   ]
  }
 ],
 "metadata": {
  "kernelspec": {
   "display_name": "Python 3",
   "language": "python",
   "name": "python3"
  },
  "language_info": {
   "codemirror_mode": {
    "name": "ipython",
    "version": 3
   },
   "file_extension": ".py",
   "mimetype": "text/x-python",
   "name": "python",
   "nbconvert_exporter": "python",
   "pygments_lexer": "ipython3",
   "version": "3.8.5"
  }
 },
 "nbformat": 4,
 "nbformat_minor": 4
}
